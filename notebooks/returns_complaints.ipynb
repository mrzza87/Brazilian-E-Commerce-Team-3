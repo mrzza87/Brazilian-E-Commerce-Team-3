{
 "cells": [
  {
   "cell_type": "markdown",
   "metadata": {},
   "source": [
    "\n",
    "\n",
    "### **Returns & Complaints**\n",
    "\n",
    "```markdown\n",
    "# Returns & Complaints\n",
    "\n",
    "## 1. Purpose\n",
    "This notebook identifies dissatisfaction indicators (e.g. low reviews) as a proxy for returns and complaints.\n",
    "\n",
    "## 2. Business Questions\n",
    "- What is the return rate by review score?\n",
    "- Which product categories receive the most low reviews?\n",
    "\n",
    "## 3. Data Sources\n",
    "- order_reviews.csv\n",
    "- products.csv\n",
    "- order_items.csv\n",
    "\n",
    "## 4. Key Metrics\n",
    "- Count of 1- and 2-star reviews per category\n",
    "- Percentage of total orders with poor reviews\n",
    "\n",
    "## 5. Analysis & Visuals\n",
    "\n",
    "### **5.1 What is the return rate by review score?**\n",
    "_(Proportion of low-score reviews across total orders)_\n",
    "\n",
    "```python\n",
    "# Code goes here\n",
    "\n",
    "##  6. **Interpretation**\n",
    "\n",
    "\n",
    "##  7. **Dollars & Cents Framing**\n",
    "\n",
    "\n",
    "## 8. **Recommendations**\n"
   ]
  },
  {
   "cell_type": "markdown",
   "metadata": {},
   "source": []
  }
 ],
 "metadata": {
  "language_info": {
   "name": "python"
  }
 },
 "nbformat": 4,
 "nbformat_minor": 2
}
