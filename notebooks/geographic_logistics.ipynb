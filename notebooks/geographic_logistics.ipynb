{
 "cells": [
  {
   "cell_type": "markdown",
   "metadata": {},
   "source": [
    "### **Geography & Logistics**\n",
    "\n",
    "```markdown\n",
    "# Geography & Logistics\n",
    "\n",
    "## 1. Purpose\n",
    "\n",
    "Examine how delivery distances and locations affect delays and customer satisfaction. This helps uncover operational inefficiencies and regions with high revenue risk.\n",
    "\n",
    "##  2. **Business Questions Addressed**\n",
    "- Where are most customers located?\n",
    "- What is the median delivery distance and delay time?\n",
    "- Which regions have the worst delivery delays?\n",
    "- Do longer distances correlate with lower review scores?\n",
    "\n",
    "##  3. **Data Sources Used**\n",
    "- `geolocation_dataset.csv`\n",
    "- `customers_dataset.csv`\n",
    "- `sellers_dataset.csv`\n",
    "- `orders_dataset.csv`\n",
    "- `order_reviews_dataset.csv`\n",
    "\n",
    "## 4. **Key Metrics Defined**\n",
    "- **Delivery Distance:** _Haversine distance between seller and customer coordinates_\n",
    "- **Delivery Delay (days):** _Actual delivery time minus estimated delivery time_\n",
    "- **Review Score:** _Rating from 1 to 5 left by customer after delivery_\n",
    "\n",
    "##  5. **Analysis & Visuals**\n",
    "### 5.1 Where are most customers located?\n",
    "_(Map visual, value counts by state, top customer regions)_\n",
    "\n",
    "```python\n",
    "\n",
    "\n",
    "\n",
    "##  6. **Interpretation**\n",
    "\n",
    "\n",
    "##  7. **Dollars & Cents Framing**\n",
    "\n",
    "\n",
    "## 8. **Recommendations**\n",
    "\n"
   ]
  },
  {
   "cell_type": "markdown",
   "metadata": {},
   "source": []
  }
 ],
 "metadata": {
  "language_info": {
   "name": "python"
  }
 },
 "nbformat": 4,
 "nbformat_minor": 2
}
