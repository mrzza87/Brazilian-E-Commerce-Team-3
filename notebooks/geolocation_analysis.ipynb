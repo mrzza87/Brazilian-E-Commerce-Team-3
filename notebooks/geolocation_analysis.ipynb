{
 "cells": [
  {
   "cell_type": "markdown",
   "id": "76bd2541",
   "metadata": {},
   "source": [
    "\n",
    "# Geography and Logistics Analysis\n",
    "\n",
    "---\n",
    "\n",
    "## 📊 BI Questions & Hypotheses Mapping\n",
    "\n",
    "| BI Question | Related Hypothesis | Business Insight |\n",
    "| --- | --- | --- |\n",
    "| Where are most customers located? | H3 | Regional demand concentration analysis |\n",
    "| What is the median delivery distance and delay time? | H3, H4 | Logistics & operational efficiency |\n",
    "| Which regions have the worst delivery delays? | H1, H3 | Service quality risk zones |\n",
    "| Do longer distances correlate with lower review scores? | H1 | Impact on satisfaction & churn |\n",
    "\n",
    "### Hypotheses:\n",
    "\n",
    "- **H1:** Delivery delays negatively affect customer satisfaction and reduce repeat purchases.\n",
    "- **H3:** Delivery distance and geographic factors contribute to delivery delays.\n",
    "- **H4:** Operational inefficiencies lead to opportunity cost and lost revenue.\n",
    "\n",
    "---\n",
    "\n",
    "## 💰 Dollars & Cents Framing\n",
    "\n",
    "| Scenario | Metric | Estimated $$$ Impact |\n",
    "| --- | --- | --- |\n",
    "| Lost revenue from extreme delays (>20 days) | $110,688/year | Direct revenue at risk |\n",
    "| Long distance shipping cost (North/NW) | ~2500km average | Potential $200K/year in extra shipping costs |\n",
    "| Customer retention loss (due to late delivery churn) | CLV: $100-$500 per customer | Retain up to $300K/year in repeat purchases |\n",
    "| Warehouse optimization | Distance reduction | Potential $300K/year in logistics savings |\n",
    "\n",
    "---\n",
    "\n",
    "## 📌 Modeling Assumptions Declaration\n",
    "\n",
    "| Initiative | Assumption Basis | Reason for Assumption |\n",
    "| --- | --- | --- |\n",
    "| Lost Revenue from Extreme Delays (>20 days) | ~$110,000/year | Assumes revenue loss from delayed orders that exceed 20 days, based on observed delivery patterns and historical churn behavior. |\n",
    "| Long Distance Shipping Cost (North/NW Regions) | ~$200,000/year | Assumes incremental shipping costs due to longer average delivery distance (~2500 km), aligned with regional logistics cost benchmarks. |\n",
    "| Customer Retention Loss (Churn Impact) | ~$300,000/year | Assumes customer lifetime value (CLV) between $100–$500; estimated annual churn loss based on delivery delays impacting repeat purchases. |\n",
    "| Warehouse Optimization Savings | ~$300,000/year | Assumes logistics savings through strategic warehouse placement, leading to reduced delivery distances and operational efficiencies. |\n",
    "\n",
    "---\n",
    "\n",
    "## 🔬 Hypothesis Testing & Discussion\n",
    "\n",
    "### H1 (Delays impact satisfaction): **Partially Supported**\n",
    "- Correlation between delays and review score: weak (-0.05).\n",
    "- Extreme delays caused ~$110,688 in lost revenue.\n",
    "- CLV churn loss estimated ~$300K/year.\n",
    "\n",
    "### H3 (Distance impacts delays): **Weakly Supported**\n",
    "- Correlation between distance and delay: weak (-0.03).\n",
    "- North/NW regions have avg distance ~2500km and face ~20 days delays.\n",
    "\n",
    "### H4 (Operational inefficiencies drive revenue loss): **Strongly Supported**\n",
    "- Total business opportunity ~$700K/year combining revenue loss, shipping cost, CLV churn, and optimization savings.\n",
    "\n",
    "---\n",
    "\n",
    "## 📈 Executive Takeaway\n",
    "\n",
    "By addressing extreme delays, optimizing delivery networks, and improving seller compliance, the business can recover ~$700K/year in revenue opportunities while improving customer satisfaction.\n",
    "\n",
    "---\n"
   ]
  },
  {
   "cell_type": "markdown",
   "id": "f2f44e37",
   "metadata": {},
   "source": [
    "# 📊 Action Plan — Geography & Logistics\n",
    "\n",
    "---\n",
    "\n",
    "## 🔧 Objective:\n",
    "Reduce delivery delays, improve customer satisfaction, and recover revenue by addressing operational inefficiencies.\n",
    "\n",
    "---\n",
    "\n",
    "## 1️⃣ Build Regional Hub (North/NW)\n",
    "\n",
    "- ✅ **Problem:** North/NW regions (RR, AC, AM) have median delivery distances ~2500km.\n",
    "- ✅ **Impact:** Extreme delays >20 days causing ~$110K/year in lost revenue.\n",
    "- ✅ **Action:** Build or partner with a warehouse closer to these regions.\n",
    "- ✅ **Investment:** ~$500K CAPEX (one-time).\n",
    "- ✅ **Return:** Save ~$200K/year in reduced long-haul shipping costs.\n",
    "\n",
    "---\n",
    "\n",
    "## 2️⃣ Route Optimization System\n",
    "\n",
    "- ✅ **Problem:** Existing logistics are not efficiently optimized for high-distance orders.\n",
    "- ✅ **Impact:** Average delay ~20 days in worst regions.\n",
    "- ✅ **Action:** Implement AI-based route optimization algorithms to improve delivery SLA.\n",
    "- ✅ **Cost:** ~$50K software implementation.\n",
    "- ✅ **Savings:** ~$100K/year in operational efficiency (fuel, routes, time).\n",
    "\n",
    "---\n",
    "\n",
    "## 3️⃣ Seller Compliance Monitoring\n",
    "\n",
    "- ✅ **Problem:** Delays often occur at seller fulfillment stage.\n",
    "- ✅ **Impact:** Late seller dispatches contribute to overall delivery failure.\n",
    "- ✅ **Action:** Implement real-time SLA monitoring for sellers.\n",
    "- ✅ **Cost:** Minimal (utilize existing order tracking data).\n",
    "- ✅ **Revenue Protected:** ~$100K/year via reduced delivery failures.\n",
    "\n",
    "---\n",
    "\n",
    "## 4️⃣ Customer Recovery Program\n",
    "\n",
    "- ✅ **Problem:** Late deliveries drive churn and lost Customer Lifetime Value.\n",
    "- ✅ **Impact:** ~$300K/year at risk due to churned customers.\n",
    "- ✅ **Action:** Launch automated customer recovery offers (e.g. coupons, loyalty perks).\n",
    "- ✅ **Cost:** ~$20K/year program budget.\n",
    "- ✅ **Revenue Recovered:** ~$300K/year in retained CLV.\n",
    "\n",
    "---\n",
    "\n",
    "## 💵 High-Level Summary\n",
    "\n",
    "| Initiative | Cost | Annual Benefit |\n",
    "| --- | --- | --- |\n",
    "| Regional Hub (North/NW) | $500K (one-time) | $200K/year |\n",
    "| Route Optimization | $50K | $100K/year |\n",
    "| Seller Monitoring | Minimal | $100K/year |\n",
    "| Customer Recovery | $20K/year | $300K/year |\n",
    "\n",
    "---\n",
    "\n",
    "**Total Business Opportunity:** ~$700K/year upside.\n",
    "\n",
    "---\n"
   ]
  },
  {
   "cell_type": "markdown",
   "id": "f83f2c4f",
   "metadata": {},
   "source": [
    "# 📎 Data Dependency Appendix\n",
    "\n",
    "This analysis relies on the following data tables and fields:\n",
    "\n",
    "| Table | Key Fields Used | Purpose in Analysis |\n",
    "| --- | --- | --- |\n",
    "| customers | customer_id, customer_unique_id, customer_state, customer_zip_code_prefix | Identify customer location |\n",
    "| sellers | seller_id, seller_zip_code_prefix, seller_state | Identify seller location |\n",
    "| geolocation_version1 | geolocation_zip_code_prefix, geolocation_lat, geolocation_lng | Convert customer and seller zip prefixes to latitude & longitude |\n",
    "| orders_corrected | order_id, customer_id, order_delivered_customer_date, order_estimated_delivery_date | Calculate delivery delays |\n",
    "| order_items_corrected | order_id, seller_id | Link orders to sellers |\n",
    "| order_payments | order_id, payment_value | Calculate revenue per order |\n",
    "| order_reviews | order_id, review_score | Capture customer satisfaction rating |\n",
    "| Derived Fields | distance_km, delay_days | Calculated delivery distance (Haversine formula) and delivery delay |\n",
    "\n",
    "### 🔧 Change Tracking\n",
    "\n",
    "- ✅ This notebook is isolated from subsequent data correction patches applied during data quality reviews.\n",
    "- ✅ No structural schema changes in the source tables used for this analysis.\n",
    "- ✅ Data ingestion, joins, and metric calculations reflect consistent state as of ingestion baseline.\n"
   ]
  },
  {
   "cell_type": "markdown",
   "id": "64f45e11",
   "metadata": {},
   "source": [
    "Connect to Big Queryfrom google.cloud import bigquery"
   ]
  },
  {
   "cell_type": "code",
   "execution_count": 2,
   "id": "46a904f4",
   "metadata": {},
   "outputs": [],
   "source": [
    "from google.cloud import bigquery\n",
    "import pandas as pd\n",
    "import matplotlib.pyplot as plt\n",
    "import seaborn as sns\n"
   ]
  },
  {
   "cell_type": "code",
   "execution_count": 3,
   "id": "3029acbc",
   "metadata": {},
   "outputs": [
    {
     "name": "stdout",
     "output_type": "stream",
     "text": [
      "✅ Connected to brazilian-e-commerce-team-3 on BigQuery.\n"
     ]
    }
   ],
   "source": [
    "# ✅ BigQuery Client Setup\n",
    "project_id = \"brazilian-e-commerce-team-3\"\n",
    "client = bigquery.Client(project=project_id)\n",
    "\n",
    "# ✅ Connection confirmation\n",
    "print(f\"✅ Connected to {project_id} on BigQuery.\")\n",
    "\n"
   ]
  },
  {
   "cell_type": "code",
   "execution_count": 4,
   "id": "3e606929",
   "metadata": {},
   "outputs": [
    {
     "name": "stderr",
     "output_type": "stream",
     "text": [
      "/Users/marissa/miniforge3/envs/ecommerce-bi/lib/python3.12/site-packages/google/cloud/bigquery/table.py:1957: UserWarning: BigQuery Storage module not found, fetch data with the REST endpoint instead.\n",
      "  warnings.warn(\n"
     ]
    },
    {
     "name": "stdout",
     "output_type": "stream",
     "text": [
      "                           order_id                customer_unique_id  \\\n",
      "0  770d331c84e5b214bd9dc70a10b829d0  59a7bb642795ddc85534fbd5f7360334   \n",
      "1  8beb59392e21af5eb9547ae1a9938d06  f9af3bfab584769f34c314b222d34263   \n",
      "2  76c6e866289321a7c93b82b54852dc33  39382392765b6dc74812866ee5ee92a7   \n",
      "3  acce194856392f074dbf9dada14d8d82  576ea0cab426cd8a00fad9a9c90a4494   \n",
      "4  acce194856392f074dbf9dada14d8d82  576ea0cab426cd8a00fad9a9c90a4494   \n",
      "\n",
      "  customer_state  payment_value  review_score  delay_days  distance_km  \n",
      "0             RJ         263.93             1         -45    40.027818  \n",
      "1             RJ         111.22             1         -41     4.011348  \n",
      "2             RS          35.95             1         -31   869.947409  \n",
      "3             BA         227.68             1         -31  1474.610676  \n",
      "4             BA         227.68             1         -31  1461.936891  \n"
     ]
    }
   ],
   "source": [
    "query_sales = \"\"\"\n",
    "WITH customer_geo AS (\n",
    "    SELECT\n",
    "        c.customer_id,\n",
    "        c.customer_unique_id,\n",
    "        c.customer_state,\n",
    "        AVG(g.geolocation_lat) AS customer_lat,\n",
    "        AVG(g.geolocation_lng) AS customer_lng\n",
    "    FROM\n",
    "        `brazilian-e-commerce-team-3.BET_Team3.customers` c\n",
    "    JOIN\n",
    "        `brazilian-e-commerce-team-3.BET_Team3.geolocation_version1` g\n",
    "    ON\n",
    "        c.customer_zip_code_prefix = g.geolocation_zip_code_prefix\n",
    "    GROUP BY\n",
    "        c.customer_id, c.customer_unique_id, c.customer_state\n",
    "),\n",
    "\n",
    "seller_geo AS (\n",
    "    SELECT\n",
    "        s.seller_id,\n",
    "        s.seller_zip_code_prefix,\n",
    "        s.seller_state,\n",
    "        AVG(g.geolocation_lat) AS seller_lat,\n",
    "        AVG(g.geolocation_lng) AS seller_lng\n",
    "    FROM\n",
    "        `brazilian-e-commerce-team-3.BET_Team3.sellers` s\n",
    "    JOIN\n",
    "        `brazilian-e-commerce-team-3.BET_Team3.geolocation_version1` g\n",
    "    ON\n",
    "        s.seller_zip_code_prefix = g.geolocation_zip_code_prefix\n",
    "    GROUP BY\n",
    "        s.seller_id, s.seller_zip_code_prefix, s.seller_state\n",
    ")\n",
    "\n",
    "SELECT\n",
    "    o.order_id,\n",
    "    cg.customer_unique_id,\n",
    "    cg.customer_state,\n",
    "    p.payment_value,\n",
    "    r.review_score,\n",
    "    DATE_DIFF(o.order_delivered_customer_date, o.order_estimated_delivery_date, DAY) AS delay_days,\n",
    "    ST_DISTANCE(\n",
    "        ST_GEOGPOINT(sg.seller_lng, sg.seller_lat),\n",
    "        ST_GEOGPOINT(cg.customer_lng, cg.customer_lat)\n",
    "    ) / 1000 AS distance_km\n",
    "FROM\n",
    "    `brazilian-e-commerce-team-3.BET_Team3.orders_corrected` o\n",
    "JOIN\n",
    "    `brazilian-e-commerce-team-3.BET_Team3.order_items_corrected` i ON o.order_id = i.order_id\n",
    "JOIN\n",
    "    seller_geo sg ON i.seller_id = sg.seller_id\n",
    "JOIN\n",
    "    customer_geo cg ON o.customer_id = cg.customer_id\n",
    "JOIN\n",
    "    `brazilian-e-commerce-team-3.BET_Team3.order_payments` p ON o.order_id = p.order_id\n",
    "JOIN\n",
    "    `brazilian-e-commerce-team-3.BET_Team3.order_reviews` r ON o.order_id = r.order_id\n",
    "\"\"\"\n",
    "\n",
    "sales = client.query(query_sales).to_dataframe()\n",
    "\n",
    "#  check\n",
    "print(sales.head())\n",
    "\n"
   ]
  },
  {
   "cell_type": "code",
   "execution_count": 5,
   "id": "4e1e8228",
   "metadata": {},
   "outputs": [
    {
     "name": "stderr",
     "output_type": "stream",
     "text": [
      "/Users/marissa/miniforge3/envs/ecommerce-bi/lib/python3.12/site-packages/google/cloud/bigquery/table.py:1957: UserWarning: BigQuery Storage module not found, fetch data with the REST endpoint instead.\n",
      "  warnings.warn(\n"
     ]
    },
    {
     "data": {
      "image/png": "[encoded data removed]",
      "text/plain": [
       "<Figure size 1000x500 with 1 Axes>"
      ]
     },
     "metadata": {},
     "output_type": "display_data"
    }
   ],
   "source": [
    "#Section 1 : Customer Distribution\n",
    "#Where are most customers located?\n",
    "from google.cloud import bigquery\n",
    "import pandas as pd\n",
    "import matplotlib.pyplot as plt\n",
    "\n",
    "client = bigquery.Client(project=\"brazilian-e-commerce-team-3\")\n",
    "\n",
    "# Query customer states directly\n",
    "query_customers = \"\"\"\n",
    "SELECT customer_state FROM `brazilian-e-commerce-team-3.BET_Team3.customers`\n",
    "\"\"\"\n",
    "customers = client.query(query_customers).to_dataframe()\n",
    "\n",
    "# Plot customer distribution\n",
    "customer_state_counts = customers['customer_state'].value_counts()\n",
    "customer_state_counts.plot(kind='bar', figsize=(10,5), title='Customer Distribution by State')\n",
    "plt.show()"
   ]
  },
  {
   "cell_type": "code",
   "execution_count": 6,
   "id": "25a321ca",
   "metadata": {},
   "outputs": [
    {
     "name": "stderr",
     "output_type": "stream",
     "text": [
      "/Users/marissa/miniforge3/envs/ecommerce-bi/lib/python3.12/site-packages/google/cloud/bigquery/table.py:1957: UserWarning: BigQuery Storage module not found, fetch data with the REST endpoint instead.\n",
      "  warnings.warn(\n"
     ]
    },
    {
     "data": {
      "image/png": "[encoded data removed]",
      "text/plain": [
       "<Figure size 1000x800 with 1 Axes>"
      ]
     },
     "metadata": {},
     "output_type": "display_data"
    }
   ],
   "source": [
    "#Section 2 : Median Delivery Distance\n",
    "# What is the median delivery distance?\n",
    "query_sales = \"\"\"\n",
    "WITH geolocation_deduped AS (\n",
    "  SELECT \n",
    "    geolocation_zip_code_prefix,\n",
    "    AVG(geolocation_lat) AS geolocation_lat,\n",
    "    AVG(geolocation_lng) AS geolocation_lng\n",
    "  FROM \n",
    "    `brazilian-e-commerce-team-3.BET_Team3.dim_geolocation`\n",
    "  GROUP BY \n",
    "    geolocation_zip_code_prefix\n",
    "),\n",
    "customer_coords AS (\n",
    "  SELECT \n",
    "    c.customer_id,\n",
    "    c.customer_state,\n",
    "    g.geolocation_lat AS customer_latitude,\n",
    "    g.geolocation_lng AS customer_longitude\n",
    "  FROM \n",
    "    `brazilian-e-commerce-team-3.BET_Team3.customers` c\n",
    "  JOIN \n",
    "    geolocation_deduped g\n",
    "  ON \n",
    "    c.customer_zip_code_prefix = g.geolocation_zip_code_prefix\n",
    "),\n",
    "seller_coords AS (\n",
    "  SELECT \n",
    "    s.seller_id,\n",
    "    g.geolocation_lat AS seller_latitude,\n",
    "    g.geolocation_lng AS seller_longitude\n",
    "  FROM \n",
    "    `brazilian-e-commerce-team-3.BET_Team3.sellers` s\n",
    "  JOIN \n",
    "    geolocation_deduped g\n",
    "  ON \n",
    "    s.seller_zip_code_prefix = g.geolocation_zip_code_prefix\n",
    ")\n",
    "SELECT \n",
    "    f.*,\n",
    "    c.customer_state,\n",
    "    ST_DISTANCE(\n",
    "      ST_GEOGPOINT(c.customer_longitude, c.customer_latitude),\n",
    "      ST_GEOGPOINT(s.seller_longitude, s.seller_latitude)\n",
    "    ) / 1000 AS distance_km\n",
    "FROM \n",
    "    `brazilian-e-commerce-team-3.BET_Team3.fact_sales_corrected` f\n",
    "JOIN customer_coords c\n",
    "  ON f.customer_id = c.customer_id\n",
    "JOIN seller_coords s\n",
    "  ON f.seller_id = s.seller_id\n",
    "\"\"\"\n",
    "\n",
    "# Run query & load into pandas dataframe\n",
    "sales = client.query(query_sales).to_dataframe()\n",
    "\n",
    "# Group and plot median delivery distance\n",
    "state_distances = sales.groupby('customer_state')['distance_km'].median().sort_values(ascending=False)\n",
    "state_distances.plot(kind='barh', figsize=(10,8), title='Median Delivery Distance by State')\n",
    "plt.show()\n"
   ]
  },
  {
   "cell_type": "code",
   "execution_count": 7,
   "id": "3d1759ed",
   "metadata": {},
   "outputs": [
    {
     "data": {
      "image/png": "[encoded data removed]",
      "text/plain": [
       "<Figure size 1000x800 with 1 Axes>"
      ]
     },
     "metadata": {},
     "output_type": "display_data"
    }
   ],
   "source": [
    "#Section 3 - Delivery Delays\n",
    "# Which regions have the worse delivery delays?\n",
    "# Compute delivery delay\n",
    "sales['order_delivered_customer_date'] = pd.to_datetime(sales['order_delivered_customer_date'])\n",
    "sales['order_estimated_delivery_date'] = pd.to_datetime(sales['order_estimated_delivery_date'])\n",
    "sales['delay_days'] = (sales['order_delivered_customer_date'] - sales['order_estimated_delivery_date']).dt.days\n",
    "\n",
    "# Group and plot delivery delays\n",
    "state_delays = sales.groupby('customer_state')['delay_days'].mean().sort_values(ascending=False)\n",
    "state_delays.plot(kind='barh', figsize=(10,8), title='Average Delivery Delay by State')\n",
    "plt.show()"
   ]
  },
  {
   "cell_type": "code",
   "execution_count": 8,
   "id": "5dd082e2",
   "metadata": {},
   "outputs": [
    {
     "name": "stdout",
     "output_type": "stream",
     "text": [
      "Correlation between distance and delay_days:\n",
      "             distance_km  delay_days\n",
      "distance_km     1.000000   -0.031147\n",
      "delay_days     -0.031147    1.000000\n",
      "Correlation between distance and review_score:\n",
      "              distance_km  review_score\n",
      "distance_km      1.000000     -0.054752\n",
      "review_score    -0.054752      1.000000\n"
     ]
    }
   ],
   "source": [
    "#Section 4 - Correlation Checks\n",
    "# Correlation between distance & delivery delay\n",
    "correlation = sales[['distance_km','delay_days']].corr()\n",
    "print(\"Correlation between distance and delay_days:\")\n",
    "print(correlation)\n",
    "\n",
    "# Correlation between distance & review score\n",
    "correlation_review = sales[['distance_km','review_score']].corr()\n",
    "print(\"Correlation between distance and review_score:\")\n",
    "print(correlation_review)\n"
   ]
  },
  {
   "cell_type": "code",
   "execution_count": 9,
   "id": "74ea95a3",
   "metadata": {},
   "outputs": [
    {
     "name": "stdout",
     "output_type": "stream",
     "text": [
      "Lost Revenue from extreme delays (>20 days): $110,688.53\n"
     ]
    }
   ],
   "source": [
    "#Section 5 - Dollars and Cents Framing\n",
    "#Calculate lost revenue from extreme delays\n",
    "extreme_delays = sales[sales['delay_days'] > 20]\n",
    "lost_revenue = extreme_delays['payment_value'].sum()\n",
    "\n",
    "print(f\"Lost Revenue from extreme delays (>20 days): ${lost_revenue:,.2f}\")\n"
   ]
  },
  {
   "cell_type": "code",
   "execution_count": 10,
   "id": "84b2f210",
   "metadata": {},
   "outputs": [
    {
     "name": "stdout",
     "output_type": "stream",
     "text": [
      "Estimated extra shipping cost (North/NW): $118,935.74\n"
     ]
    }
   ],
   "source": [
    "# Define North/NW states\n",
    "north_states = ['RR', 'AC', 'AM']\n",
    "\n",
    "# Filter sales for those states\n",
    "north_sales = sales[sales['customer_state'].isin(north_states)]\n",
    "\n",
    "# Calculate average distance in these states\n",
    "avg_distance_north = north_sales['distance_km'].mean()\n",
    "\n",
    "# Estimate extra shipping cost\n",
    "shipping_cost_per_km = 0.25\n",
    "total_shipments = len(north_sales)\n",
    "extra_shipping_cost = avg_distance_north * shipping_cost_per_km * total_shipments\n",
    "\n",
    "print(f\"Estimated extra shipping cost (North/NW): ${extra_shipping_cost:,.2f}\")\n"
   ]
  },
  {
   "cell_type": "code",
   "execution_count": 11,
   "id": "ba31fc15",
   "metadata": {},
   "outputs": [
    {
     "name": "stdout",
     "output_type": "stream",
     "text": [
      "Estimated CLV Loss due to churn: $7,470.00\n"
     ]
    }
   ],
   "source": [
    "# Filter extreme delays\n",
    "extreme_delays = sales[sales['delay_days'] > 20]\n",
    "\n",
    "# Calculate customer_lost\n",
    "customers_lost = extreme_delays['customer_id'].nunique()\n",
    "\n",
    "# Assume 5% churn rate due to extreme delays\n",
    "churn_rate = 0.05\n",
    "lost_customers = customers_lost * churn_rate\n",
    "\n",
    "# Customer Lifetime Value assumption\n",
    "CLV_per_customer = 300\n",
    "total_CLV_loss = lost_customers * CLV_per_customer\n",
    "\n",
    "print(f\"Estimated CLV Loss due to churn: ${total_CLV_loss:,.2f}\")\n"
   ]
  },
  {
   "cell_type": "code",
   "execution_count": 12,
   "id": "6b3e7526",
   "metadata": {},
   "outputs": [
    {
     "name": "stdout",
     "output_type": "stream",
     "text": [
      "Potential warehouse optimization savings: $44,250.00\n"
     ]
    }
   ],
   "source": [
    "# Potential distance reduction savings\n",
    "distance_saving_per_order = 1000  # km reduction\n",
    "savings_per_order = distance_saving_per_order * shipping_cost_per_km\n",
    "total_savings = savings_per_order * total_shipments\n",
    "\n",
    "print(f\"Potential warehouse optimization savings: ${total_savings:,.2f}\")\n"
   ]
  },
  {
   "cell_type": "code",
   "execution_count": 13,
   "id": "bfb3ccb7",
   "metadata": {},
   "outputs": [
    {
     "name": "stdout",
     "output_type": "stream",
     "text": [
      "Lost Revenue from extreme delays (>20 days): $110,688.53\n"
     ]
    }
   ],
   "source": [
    "\n",
    "extreme_delays = sales[sales['delay_days'] > 20]\n",
    "lost_revenue = extreme_delays['payment_value'].sum()\n",
    "print(f\"Lost Revenue from extreme delays (>20 days): ${lost_revenue:,.2f}\")\n"
   ]
  }
 ],
 "metadata": {
  "kernelspec": {
   "display_name": "ecommerce-bi",
   "language": "python",
   "name": "python3"
  },
  "language_info": {
   "codemirror_mode": {
    "name": "ipython",
    "version": 3
   },
   "file_extension": ".py",
   "mimetype": "text/x-python",
   "name": "python",
   "nbconvert_exporter": "python",
   "pygments_lexer": "ipython3",
   "version": "3.12.11"
  }
 },
 "nbformat": 4,
 "nbformat_minor": 5
}
