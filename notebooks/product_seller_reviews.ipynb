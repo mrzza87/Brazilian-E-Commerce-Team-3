{
 "cells": [
  {
   "cell_type": "markdown",
   "metadata": {},
   "source": [
    "\n",
    "###  **Product & Seller Performance**\n",
    "\n",
    "```markdown\n",
    "# Product & Seller Performance\n",
    "\n",
    "## 1. Purpose\n",
    "This notebook evaluates how products and sellers influence customer satisfaction, based on review scores and ratings.\n",
    "\n",
    "## 2. Business Questions\n",
    "- What is the average review score by product?\n",
    "- Which sellers receive the most 1-star and 5-star reviews?\n",
    "- Do review scores vary with delivery time or order value?\n",
    "\n",
    "## 3. Data Sources\n",
    "- order_reviews.csv\n",
    "- order_items.csv\n",
    "- products.csv\n",
    "- sellers.csv\n",
    "\n",
    "## 4. Key Metrics\n",
    "- Review score by product and seller\n",
    "- Review count by star level\n",
    "- Review distribution over delivery performance\n",
    "\n",
    "## 5. Analysis & Visuals\n",
    "\n",
    "### **5.1 What is the average review score by product?**\n",
    "_(Group by product_id, merge with product names)_\n",
    "\n",
    "```python\n",
    "# Code goes here\n",
    "\n",
    "##  6. **Interpretation**\n",
    "\n",
    "\n",
    "##  7. **Dollars & Cents Framing**\n",
    "\n",
    "\n",
    "## 8. **Recommendations**\n"
   ]
  },
  {
   "cell_type": "markdown",
   "metadata": {},
   "source": []
  }
 ],
 "metadata": {
  "kernelspec": {
   "display_name": "dwh",
   "language": "python",
   "name": "python3"
  },
  "language_info": {
   "name": "python",
   "version": "3.10.14"
  }
 },
 "nbformat": 4,
 "nbformat_minor": 2
}
