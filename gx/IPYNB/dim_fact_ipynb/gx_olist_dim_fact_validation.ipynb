{
 "cells": [
  {
   "cell_type": "code",
   "execution_count": 20,
   "id": "41835b25",
   "metadata": {},
   "outputs": [],
   "source": [
    "import great_expectations as gx"
   ]
  },
  {
   "cell_type": "code",
   "execution_count": 21,
   "id": "9c16792c",
   "metadata": {},
   "outputs": [],
   "source": [
    "def dd_site_config(context, site_name):\n",
    "    # Define a Data Docs site configuration dictionary\n",
    "    base_directory = \"uncommitted/data_docs/local_site/\"  # this is the default path (relative to the root folder of the Data Context) but can be changed as required\n",
    "    site_config = {\n",
    "        \"class_name\": \"SiteBuilder\",\n",
    "        \"site_index_builder\": {\"class_name\": \"DefaultSiteIndexBuilder\"},\n",
    "        \"store_backend\": {\n",
    "            \"class_name\": \"TupleFilesystemStoreBackend\",\n",
    "            \"base_directory\": base_directory,\n",
    "        },\n",
    "    }\n",
    "\n",
    "\n",
    "    if site_name not in context.get_site_names():\n",
    "        context.add_data_docs_site(site_name=site_name, site_config=site_config)\n",
    "    return context"
   ]
  },
  {
   "cell_type": "code",
   "execution_count": 22,
   "id": "1e458e26",
   "metadata": {},
   "outputs": [],
   "source": [
    "def get_data_source(context, data_source_name):\n",
    "    my_BQ_connection_string=\"bigquery://brazilian-e-commerce-team-3/BET_Team3\"\n",
    "\n",
    "    # Add BigQuery datasource (Fluent style)\n",
    "    data_source = context.data_sources.add_or_update_sql(\n",
    "        name=data_source_name,\n",
    "        connection_string=my_BQ_connection_string\n",
    "    )\n",
    "    return data_source"
   ]
  },
  {
   "cell_type": "code",
   "execution_count": 23,
   "id": "f8a92d19",
   "metadata": {},
   "outputs": [],
   "source": [
    "def get_data_asset(data_source, tgt, asset_name):\n",
    "    database_table_name = tgt\n",
    "    table_data_asset = data_source.add_table_asset(\n",
    "        table_name=database_table_name, name=asset_name\n",
    "    )\n",
    "\n",
    "    # Get the Data Asset from the Data Source\n",
    "    data_asset = data_source.get_asset(asset_name)\n",
    "    return data_asset"
   ]
  },
  {
   "cell_type": "code",
   "execution_count": 24,
   "id": "79c3f8f9",
   "metadata": {},
   "outputs": [],
   "source": [
    "def get_full_table_batch(data_asset, batch_definition_name):\n",
    "    full_table_batch_definition = data_asset.add_batch_definition_whole_table(\n",
    "        name=batch_definition_name\n",
    "    )\n",
    "    full_table_batch = full_table_batch_definition.get_batch()\n",
    "    return full_table_batch"
   ]
  },
  {
   "cell_type": "code",
   "execution_count": 25,
   "id": "158eb664",
   "metadata": {},
   "outputs": [],
   "source": [
    "import importlib\n",
    "\n",
    "def get_exp_suite(context, exp_suite_name, mod_name, func_name):\n",
    "    exp_suite = gx.ExpectationSuite(name=exp_suite_name)\n",
    "    exp_suite = context.suites.add_or_update(exp_suite)\n",
    "\n",
    "    #from gxe_01_olist_customers_suite import build_expectations_gxe_01_olist_customers_suite\n",
    "    # exp_suite = build_expectations_01_olist_customers_suite(exp_suite)\n",
    "\n",
    "    module = importlib.import_module(mod_name)\n",
    "    func = getattr(module, func_name)\n",
    "    exp_suite = func(exp_suite)\n",
    "    return exp_suite"
   ]
  },
  {
   "cell_type": "code",
   "execution_count": 26,
   "id": "26fa3a39",
   "metadata": {},
   "outputs": [],
   "source": [
    "def get_batch_defintion(context, data_source_name, asset_name, batch_definition_name):\n",
    "    batch_definition = (\n",
    "        context.data_sources.get(data_source_name)\n",
    "        .get_asset(asset_name)\n",
    "        .get_batch_definition(batch_definition_name)\n",
    "    )\n",
    "    return batch_definition"
   ]
  },
  {
   "cell_type": "code",
   "execution_count": 27,
   "id": "dbe71f16",
   "metadata": {},
   "outputs": [],
   "source": [
    "def get_validation_definitions(context, validation_definition_name, batch_definition, exp_suite):\n",
    "    validation_definition = gx.ValidationDefinition(\n",
    "        data=batch_definition, suite=exp_suite, name=validation_definition_name\n",
    "    )\n",
    "    validation_definition = context.validation_definitions.add_or_update(validation_definition)\n",
    "    validation_definitions = [\n",
    "        context.validation_definitions.get(validation_definition_name)\n",
    "    ]\n",
    "    return validation_definitions"
   ]
  },
  {
   "cell_type": "code",
   "execution_count": 28,
   "id": "0e625a05",
   "metadata": {},
   "outputs": [],
   "source": [
    "def get_checkpoint(context, checkpoint_name, site_name, validation_definitions):\n",
    "    actions = [\n",
    "        gx.checkpoint.actions.UpdateDataDocsAction(\n",
    "            name=\"update_olist_site\", site_names=[site_name]       \n",
    "        )\n",
    "    ]\n",
    "    checkpoint = context.checkpoints.add_or_update(\n",
    "        gx.Checkpoint(\n",
    "            name=checkpoint_name,\n",
    "            validation_definitions=validation_definitions,\n",
    "            actions=actions,\n",
    "        )\n",
    "    )\n",
    "    return checkpoint"
   ]
  },
  {
   "cell_type": "code",
   "execution_count": 29,
   "id": "b6317a2c",
   "metadata": {},
   "outputs": [],
   "source": [
    "def run_checkpoint(tgt, mod_name, func_name):\n",
    "    context = gx.get_context(mode=\"file\")\n",
    "\n",
    "    # Add the Data Docs configuration to the Data Context\n",
    "    site_name = \"olist_data_docs_site\"\n",
    "    context = dd_site_config(context, site_name)\n",
    "\n",
    "    #data_source_name = \"BQ_olist_customer_datasource\"\n",
    "    data_source_name = \"BQ_olist_\" + tgt + \"_datasource\"\n",
    "    data_source = get_data_source(context, data_source_name)\n",
    "\n",
    "    # asset_name = \"olist_customers_asset\"\n",
    "    asset_name = \"olist_\" + tgt + \"_asset\"\n",
    "    data_asset = get_data_asset(data_source, tgt, asset_name)\n",
    "\n",
    "    # batch_definition_name = \"olist_customers_batch_def_name\"\n",
    "    batch_definition_name = \"olist_\" + tgt + \"_batch_def_name\"\n",
    "    full_table_batch = get_full_table_batch(data_asset, batch_definition_name)\n",
    "    full_table_batch.head()\n",
    "\n",
    "    #exp_suite_name = \"olist_customers_suite\"\n",
    "    exp_suite_name = \"olist_\" + tgt + \"_suite\"\n",
    "    exp_suite = get_exp_suite(context, exp_suite_name, mod_name, func_name)\n",
    "\n",
    "    batch_definition = get_batch_defintion(context, data_source_name, asset_name, batch_definition_name)\n",
    "\n",
    "    # validation_definition_name = \"BQ_customers_validation_definition\"\n",
    "    validation_definition_name = \"BQ_\" + tgt + \"_validation_definition\"\n",
    "    validation_definitions = get_validation_definitions(context, validation_definition_name, batch_definition, exp_suite)\n",
    "\n",
    "    #checkpoint_name = \"olist_customers_checkpoint\"\n",
    "    checkpoint_name = \"olist_\" + tgt + \"_checkpoint\"\n",
    "    checkpoint = get_checkpoint(context, checkpoint_name, site_name, validation_definitions)\n",
    "\n",
    "    result = checkpoint.run()\n",
    "    context.open_data_docs()\n"
   ]
  },
  {
   "cell_type": "code",
   "execution_count": 30,
   "id": "96a214c4",
   "metadata": {},
   "outputs": [
    {
     "name": "stderr",
     "output_type": "stream",
     "text": [
      "Calculating Metrics: 100%|██████████| 1/1 [00:00<00:00,  1.11it/s]\n",
      "Calculating Metrics: 100%|██████████| 30/30 [00:05<00:00,  5.29it/s]\n"
     ]
    }
   ],
   "source": [
    "tgt = 'dim_customers'\n",
    "mod_name = \"gxe_01_olist_dim_customers_suite\"\n",
    "func_name = \"build_expectations_gxe_01_olist_dim_customers_suite\"\n",
    "run_checkpoint(tgt, mod_name, func_name)"
   ]
  },
  {
   "cell_type": "code",
   "execution_count": 31,
   "id": "852cefe5",
   "metadata": {},
   "outputs": [
    {
     "name": "stderr",
     "output_type": "stream",
     "text": [
      "Calculating Metrics: 100%|██████████| 1/1 [00:01<00:00,  1.40s/it]\n",
      "Calculating Metrics: 100%|██████████| 53/53 [00:08<00:00,  6.57it/s]\n"
     ]
    }
   ],
   "source": [
    "tgt = 'dim_date'\n",
    "mod_name = \"gxe_02_olist_dim_date_suite\"\n",
    "func_name = \"build_expectations_gxe_02_olist_dim_date_suite\"\n",
    "run_checkpoint(tgt, mod_name, func_name)"
   ]
  },
  {
   "cell_type": "code",
   "execution_count": 32,
   "id": "49dcc8f1",
   "metadata": {},
   "outputs": [
    {
     "name": "stderr",
     "output_type": "stream",
     "text": [
      "Calculating Metrics: 100%|██████████| 1/1 [00:00<00:00,  1.34it/s]\n",
      "Calculating Metrics: 100%|██████████| 32/32 [00:06<00:00,  5.14it/s]\n"
     ]
    }
   ],
   "source": [
    "tgt = 'dim_time'\n",
    "mod_name = \"gxe_03_olist_dim_time_suite\"\n",
    "func_name = \"build_expectations_gxe_03_olist_dim_time_suite\"\n",
    "run_checkpoint(tgt, mod_name, func_name)"
   ]
  },
  {
   "cell_type": "code",
   "execution_count": 33,
   "id": "326bd879",
   "metadata": {},
   "outputs": [
    {
     "name": "stderr",
     "output_type": "stream",
     "text": [
      "Calculating Metrics: 100%|██████████| 1/1 [00:00<00:00,  1.09it/s]\n",
      "Calculating Metrics:  78%|███████▊  | 32/41 [00:05<00:01,  5.53it/s]\n"
     ]
    }
   ],
   "source": [
    "tgt = 'dim_payments'\n",
    "mod_name = \"gxe_04_olist_dim_payments_suite\"\n",
    "func_name = \"build_expectations_gxe_04_olist_dim_payments_suite\"\n",
    "run_checkpoint(tgt, mod_name, func_name)"
   ]
  },
  {
   "cell_type": "code",
   "execution_count": 34,
   "id": "b86daa6a",
   "metadata": {},
   "outputs": [
    {
     "name": "stderr",
     "output_type": "stream",
     "text": [
      "Calculating Metrics: 100%|██████████| 1/1 [00:00<00:00,  1.16it/s]\n",
      "Calculating Metrics: 100%|██████████| 37/37 [00:06<00:00,  5.80it/s]\n"
     ]
    }
   ],
   "source": [
    "tgt = 'dim_order_reviews'\n",
    "mod_name = \"gxe_05_olist_dim_order_reviews_suite\"\n",
    "func_name = \"build_expectations_gxe_05_olist_dim_order_reviews_suite\"\n",
    "run_checkpoint(tgt, mod_name, func_name)"
   ]
  },
  {
   "cell_type": "code",
   "execution_count": 35,
   "id": "604bdc7e",
   "metadata": {},
   "outputs": [
    {
     "name": "stderr",
     "output_type": "stream",
     "text": [
      "Calculating Metrics: 100%|██████████| 1/1 [00:00<00:00,  1.34it/s]\n",
      "Calculating Metrics: 100%|██████████| 84/84 [00:09<00:00,  9.14it/s]\n"
     ]
    }
   ],
   "source": [
    "tgt = 'dim_products'\n",
    "mod_name = \"gxe_06_olist_dim_products_suite\"\n",
    "func_name = \"build_expectations_gxe_06_olist_dim_products_suite\"\n",
    "run_checkpoint(tgt, mod_name, func_name)"
   ]
  },
  {
   "cell_type": "code",
   "execution_count": 36,
   "id": "6a6d16c0",
   "metadata": {},
   "outputs": [
    {
     "name": "stderr",
     "output_type": "stream",
     "text": [
      "Calculating Metrics: 100%|██████████| 1/1 [00:00<00:00,  1.17it/s]\n",
      "Calculating Metrics: 100%|██████████| 24/24 [00:05<00:00,  4.75it/s]\n"
     ]
    }
   ],
   "source": [
    "tgt = 'dim_sellers'\n",
    "mod_name = \"gxe_07_olist_dim_sellers_suite\"\n",
    "func_name = \"build_expectations_gxe_07_olist_dim_sellers_suite\"\n",
    "run_checkpoint(tgt, mod_name, func_name)"
   ]
  },
  {
   "cell_type": "code",
   "execution_count": 37,
   "id": "97f19eea",
   "metadata": {},
   "outputs": [
    {
     "name": "stderr",
     "output_type": "stream",
     "text": [
      "Calculating Metrics: 100%|██████████| 1/1 [00:01<00:00,  1.05s/it]\n",
      "Calculating Metrics: 100%|██████████| 24/24 [00:04<00:00,  5.08it/s]\n"
     ]
    }
   ],
   "source": [
    "tgt = 'dim_geolocation'\n",
    "mod_name = \"gxe_08_olist_dim_geolocation_suite\"\n",
    "func_name = \"build_expectations_gxe_08_olist_dim_geolocation_suite\"\n",
    "run_checkpoint(tgt, mod_name, func_name)"
   ]
  },
  {
   "cell_type": "code",
   "execution_count": 38,
   "id": "bd372200",
   "metadata": {},
   "outputs": [
    {
     "name": "stderr",
     "output_type": "stream",
     "text": [
      "Calculating Metrics: 100%|██████████| 1/1 [00:00<00:00,  1.09it/s]\n",
      "Calculating Metrics: 100%|██████████| 103/103 [00:16<00:00,  6.38it/s]\n"
     ]
    }
   ],
   "source": [
    "tgt = 'fact_sales_corrected'\n",
    "mod_name = \"gxe_09_olist_fact_sales_suite\"\n",
    "func_name = \"build_expectations_gxe_09_olist_fact_sales_suite\"\n",
    "run_checkpoint(tgt, mod_name, func_name)"
   ]
  }
 ],
 "metadata": {
  "kernelspec": {
   "display_name": "elt",
   "language": "python",
   "name": "python3"
  },
  "language_info": {
   "codemirror_mode": {
    "name": "ipython",
    "version": 3
   },
   "file_extension": ".py",
   "mimetype": "text/x-python",
   "name": "python",
   "nbconvert_exporter": "python",
   "pygments_lexer": "ipython3",
   "version": "3.10.17"
  }
 },
 "nbformat": 4,
 "nbformat_minor": 5
}
