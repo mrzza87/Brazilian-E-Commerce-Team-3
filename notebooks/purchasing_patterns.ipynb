{
 "cells": [
  {
   "cell_type": "markdown",
   "metadata": {},
   "source": [
    "\n",
    "###  **Purchasing Patterns**\n",
    "\n",
    "```markdown\n",
    "# Purchasing Patterns\n",
    "\n",
    "## 1.Purpose\n",
    "Explore what customers buy, and what drives volume and revenue.\n",
    "\n",
    "## 2. Business Questions\n",
    "- What are the top-selling products and categories?\n",
    "- What is the typical size/value of an order?\n",
    "\n",
    "## 3. Data Sources\n",
    "- order_items.csv\n",
    "- products.csv\n",
    "- orders.csv\n",
    "\n",
    "## 4. Key Metrics\n",
    "- Top 10 SKUs and categories by volume and revenue\n",
    "- Average number of items per order\n",
    "- Median and high percentile order values\n",
    "\n",
    "## 5. Analysis & Visuals\n",
    "\n",
    "### **5.1 What are the top-selling products and categories?**\n",
    "_(Count and sum revenue per product_id, product_category)_\n",
    "\n",
    "```python\n",
    "# Code goes here\n",
    "\n",
    "##  6. **Interpretation**\n",
    "\n",
    "\n",
    "##  7. **Dollars & Cents Framing**\n",
    "\n",
    "\n",
    "## 8. **Recommendations**"
   ]
  },
  {
   "cell_type": "markdown",
   "metadata": {},
   "source": []
  }
 ],
 "metadata": {
  "kernelspec": {
   "display_name": "dwh",
   "language": "python",
   "name": "python3"
  },
  "language_info": {
   "name": "python",
   "version": "3.10.14"
  }
 },
 "nbformat": 4,
 "nbformat_minor": 2
}
