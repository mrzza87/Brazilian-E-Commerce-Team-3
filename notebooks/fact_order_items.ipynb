{
 "cells": [
  {
   "cell_type": "code",
   "execution_count": 1,
   "id": "7787259b",
   "metadata": {},
   "outputs": [],
   "source": [
    "import pandas as pd\n",
    "import os\n",
    "\n",
    "# Load raw CSVs\n",
    "orders = pd.read_csv('../data/raw/olist_orders_dataset.csv')\n",
    "order_items = pd.read_csv('../data/raw/olist_order_items_dataset.csv')\n",
    "\n",
    "# Merge on order_id\n",
    "fact_df = pd.merge(order_items, orders, on='order_id', how='left')\n",
    "\n",
    "# Optional: generate your own primary key\n",
    "fact_df['order_item_id'] = fact_df['order_item_id'].astype(int)\n",
    "\n",
    "# Select relevant columns\n",
    "fact_orders = fact_df[[\n",
    "    'order_id', 'order_item_id', 'customer_id', 'product_id', 'seller_id',\n",
    "    'order_purchase_timestamp', 'price', 'freight_value'\n",
    "]]\n",
    "\n",
    "# Save to processed folder\n",
    "fact_orders.to_csv('../data/processed/fact_order_items.csv', index=False)\n"
   ]
  },
  {
   "cell_type": "code",
   "execution_count": 2,
   "id": "f1c5cf80",
   "metadata": {},
   "outputs": [],
   "source": [
    "#dim_customers\n",
    "customers = pd.read_csv('../data/raw/olist_customers_dataset.csv')\n",
    "customers.to_csv('../data/processed/dim_customers.csv', index=False)\n"
   ]
  },
  {
   "cell_type": "code",
   "execution_count": 3,
   "id": "4b8e0b98",
   "metadata": {},
   "outputs": [],
   "source": [
    "#dim_products + category translation\n",
    "products = pd.read_csv('../data/raw/olist_products_dataset.csv')\n",
    "categories = pd.read_csv('../data/raw/product_category_name_translation.csv')\n",
    "dim_products = pd.merge(products, categories, how='left', on='product_category_name')\n",
    "dim_products.to_csv('../data/processed/dim_products.csv', index=False)\n"
   ]
  },
  {
   "cell_type": "code",
   "execution_count": 4,
   "id": "c3e4bba3",
   "metadata": {},
   "outputs": [],
   "source": [
    "#dim_sellers\n",
    "sellers = pd.read_csv('../data/raw/olist_sellers_dataset.csv')\n",
    "sellers.to_csv('../data/processed/dim_sellers.csv', index=False)\n"
   ]
  },
  {
   "cell_type": "code",
   "execution_count": 5,
   "id": "6dc36bed",
   "metadata": {},
   "outputs": [],
   "source": [
    "#dim_reviews\n",
    "reviews = pd.read_csv('../data/raw/olist_order_reviews_dataset.csv')\n",
    "reviews.to_csv('../data/processed/dim_reviews.csv', index=False)\n"
   ]
  },
  {
   "cell_type": "code",
   "execution_count": null,
   "id": "beaf07ca",
   "metadata": {},
   "outputs": [],
   "source": [
    "#dim_payments\n",
    "payments = pd.read_csv('../data/raw/olist_order_payments_dataset.csv')\n",
    "payments['payment_id'] = payments.index + 1  # generate unique ID\n",
    "payments.to_csv('../data/processed/dim_payments.csv', index=False)\n"
   ]
  },
  {
   "cell_type": "code",
   "execution_count": 7,
   "id": "bb1af493",
   "metadata": {},
   "outputs": [],
   "source": [
    "#Create dim_date\n",
    "orders = pd.read_csv('../data/raw/olist_orders_dataset.csv')\n",
    "\n",
    "date_df = pd.to_datetime(orders['order_purchase_timestamp']).dropna().drop_duplicates().to_frame(name='full_date')\n",
    "date_df['date_id'] = date_df['full_date'].dt.strftime('%Y%m%d').astype(int)\n",
    "date_df['year'] = date_df['full_date'].dt.year\n",
    "date_df['month'] = date_df['full_date'].dt.month\n",
    "date_df['day'] = date_df['full_date'].dt.day\n",
    "date_df['weekday'] = date_df['full_date'].dt.day_name()\n",
    "\n",
    "date_df.to_csv('../data/processed/dim_date.csv', index=False)\n"
   ]
  }
 ],
 "metadata": {
  "kernelspec": {
   "display_name": "Python 3 (ipykernel)",
   "language": "python",
   "name": "python3"
  }
 },
 "nbformat": 4,
 "nbformat_minor": 5
}
