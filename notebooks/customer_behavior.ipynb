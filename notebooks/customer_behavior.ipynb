{
 "cells": [
  {
   "cell_type": "markdown",
   "metadata": {},
   "source": [
    "\n",
    "\n",
    "### **Customer Engagement & Behavior**\n",
    "\n",
    "```markdown\n",
    "# Customer Engagement & Behavior\n",
    "\n",
    "## 1. Purpose\n",
    "Understand how customers engage with the platform — reviews, purchases, and loyalty patterns.\n",
    "\n",
    "## 2. Business Questions\n",
    "- How many customers leave reviews? What % are repeat customers?\n",
    "- What is the frequency and value of repeat purchases?\n",
    "\n",
    "## 3. Data Sources\n",
    "- orders.csv\n",
    "- customers.csv\n",
    "- order_reviews.csv\n",
    "\n",
    "## 4. Key Metrics\n",
    "- % of customers leaving reviews\n",
    "- % of repeat customers\n",
    "- Order frequency & value per customer\n",
    "\n",
    "## 5. Analysis & Visuals\n",
    "\n",
    "### **5.1 How many customers leave reviews?**\n",
    "_(Count unique customer_ids in reviews table)_\n",
    "\n",
    "```python\n",
    "# Code goes here\n",
    "\n",
    "##  6. **Interpretation**\n",
    "\n",
    "\n",
    "##  7. **Dollars & Cents Framing**\n",
    "\n",
    "\n",
    "## 8. **Recommendations**\n"
   ]
  },
  {
   "cell_type": "markdown",
   "metadata": {},
   "source": []
  }
 ],
 "metadata": {
  "kernelspec": {
   "display_name": "dwh",
   "language": "python",
   "name": "python3"
  },
  "language_info": {
   "name": "python",
   "version": "3.10.14"
  }
 },
 "nbformat": 4,
 "nbformat_minor": 2
}
