{
 "cells": [
  {
   "cell_type": "markdown",
   "metadata": {},
   "source": [
    "\n",
    "### **Payments & Spending**\n",
    "\n",
    "```markdown\n",
    "# Payments & Spending\n",
    "\n",
    "## 1. Purpose\n",
    "This notebook analyzes how customers pay and how payment methods relate to spending and revenue.\n",
    "\n",
    "## 2. Business Questions\n",
    "- What are the most common payment methods?\n",
    "- How many installments do customers choose?\n",
    "- How does order value vary by payment method?\n",
    "\n",
    "## 3. Data Sources\n",
    "- order_payments.csv\n",
    "- orders.csv\n",
    "\n",
    "## 4. Key Metrics\n",
    "- Payment method distribution\n",
    "- Average order value by method\n",
    "- Installment count by order value\n",
    "\n",
    "## 5. Analysis & Visuals\n",
    "\n",
    "### **5.1 What are the most common payment methods?**\n",
    "_(Value counts of payment_type)_\n",
    "\n",
    "```python\n",
    "# Code goes here\n",
    "\n",
    "##  6. **Interpretation**\n",
    "\n",
    "\n",
    "##  7. **Dollars & Cents Framing**\n",
    "\n",
    "\n",
    "## 8. **Recommendations**\n"
   ]
  },
  {
   "cell_type": "markdown",
   "metadata": {},
   "source": []
  }
 ],
 "metadata": {
  "language_info": {
   "name": "python"
  }
 },
 "nbformat": 4,
 "nbformat_minor": 2
}
