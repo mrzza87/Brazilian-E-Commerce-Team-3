{
 "cells": [
  {
   "cell_type": "markdown",
   "id": "9228f94f",
   "metadata": {},
   "source": [
    "# Data Warehouse Design – Star Schema\n",
    "\n",
    "## a. Design a star schema for the e-commerce data\n",
    "\n",
    "refer to ecommerce_star_schema_v1.8.drawio in /docs\n",
    "\n",
    "![Star Schema](../docs/ecommerce_star_schema_v1.8.png)\n"
   ]
  },
  {
   "cell_type": "markdown",
   "id": "6d7d078e",
   "metadata": {},
   "source": [
    "#b. Create Dimension and Fact Tables\n",
    "\n",
    "FactSales\n",
    "\n",
    "| Column                           | Description                     |\n",
    "| -------------------------------- | ------------------------------- |\n",
    "| order\\_id, order\\_item\\_id (Composite PK)                   | Order ID, Item index in the order                        |\n",
    "| product\\_id (FK)                 | Product sold                    |\n",
    "| seller\\_id (FK)                  | Seller                          |\n",
    "| customer\\_id (FK)                | Customer                        |\n",
    "| price                            | Product price                   |\n",
    "| freight\\_value                   | Freight cost                    |\n",
    "| payment\\_value                   | Total paid (from payment table) |\n",
    "| payment\\_type                    | Payment method                  |\n",
    "| review\\_score                    | Score from review               |\n",
    "| order\\_status                    | Delivered, shipped, etc.        |\n",
    "| order\\_purchase\\_timestamp       | Purchase date                   |\n",
    "| order\\_delivered\\_customer\\_date | Delivery date                   |\n",
    "| order\\_estimated\\_delivery\\_date | Estimated delivery              |\n",
    "\n",
    "\n",
    "DimCustomer\n",
    "\n",
    "| Column                           | Description        |\n",
    "| -------------------------------- | ------------------ |\n",
    "| customer\\_id (PK)                | Unique customer ID |\n",
    "| customer\\_unique\\_id             | Logical person ID  |\n",
    "| customer\\_zip\\_code\\_prefix (FK) | ZIP prefix         |\n",
    "| customer\\_city                   | City               |\n",
    "| customer\\_state                  | State              |\n",
    "\n",
    "\n",
    "DimProduct\n",
    "\n",
    "| Column                       | Description        |\n",
    "| ---------------------------- | ------------------ |\n",
    "| product\\_id (PK)             | Product ID         |\n",
    "| product\\_category\\_name      | In Portuguese      |\n",
    "| product\\_name\\_length        | Text length        |\n",
    "| product\\_description\\_length | Description length |\n",
    "| product\\_photos\\_qty         | Number of photos   |\n",
    "| product\\_weight\\_g           | Weight             |\n",
    "| product\\_length\\_cm          | Length             |\n",
    "| product\\_height\\_cm          | Height             |\n",
    "| product\\_width\\_cm           | Width              |\n",
    "\n",
    "\n",
    "DimSeller\n",
    "\n",
    "| Column                         | Description |\n",
    "| ------------------------------ | ----------- |\n",
    "| seller\\_id (PK)                | Seller ID   |\n",
    "| seller\\_zip\\_code\\_prefix (FK) | ZIP prefix  |\n",
    "| seller\\_city                   | City        |\n",
    "| seller\\_state                  | State       |\n",
    "\n",
    "\n",
    "DimDate\n",
    "\n",
    "| Column        | Description  |\n",
    "| ------------- | ------------ |\n",
    "| date (PK)     | Date value   |\n",
    "| year          | Year         |\n",
    "| month         | Month        |\n",
    "| day           | Day          |\n",
    "| week          | ISO week     |\n",
    "| weekday\\_name | e.g., Monday |\n",
    "| is\\_weekend   | True/False   |\n",
    "\n",
    "\n",
    "DimGeolocation\n",
    "\n",
    "| Column                 | Description |\n",
    "| ---------------------- | ----------- |\n",
    "| zip\\_code\\_prefix (PK) | ZIP prefix  |\n",
    "| latitude               | Avg lat     |\n",
    "| longitude              | Avg long    |\n",
    "| city                   | City        |\n",
    "| state                  | State       |"
   ]
  },
  {
   "cell_type": "markdown",
   "id": "fa8a0789",
   "metadata": {},
   "source": [
    "# Fact Table - fact_sales_corrected\n",
    "\n",
    "Central fact table containing order metrics, foreign keys to dimensions"
   ]
  },
  {
   "cell_type": "code",
   "execution_count": null,
   "id": "901968aa",
   "metadata": {
    "vscode": {
     "languageId": "sql"
    }
   },
   "outputs": [],
   "source": [
    "WITH order_items AS (\n",
    "    SELECT * FROM {{ source('BET_Team3', 'order_items_corrected') }}\n",
    "),\n",
    "\n",
    "orders AS (\n",
    "    SELECT * FROM {{ source('BET_Team3', 'orders_corrected') }}\n",
    "),\n",
    "\n",
    "products AS (\n",
    "    SELECT * FROM {{ source('BET_Team3', 'products_corrected') }}\n",
    "),\n",
    "\n",
    "sellers AS (\n",
    "    SELECT * FROM {{ source('BET_Team3', 'sellers') }}\n",
    "),\n",
    "\n",
    "payments AS (\n",
    "    SELECT * FROM {{ source('BET_Team3', 'order_payments') }}\n",
    "),\n",
    "\n",
    "reviews AS (\n",
    "    SELECT * FROM {{ source('BET_Team3', 'order_reviews') }}\n",
    "),\n",
    "\n",
    "joined_data AS (\n",
    "    SELECT\n",
    "        o.order_id,\n",
    "        o.order_item_id,\n",
    "        ord.customer_id,\n",
    "        o.product_id,\n",
    "        p.product_category_name,\n",
    "        s.seller_id,\n",
    "        s.seller_city,\n",
    "        s.seller_state,\n",
    "        ord.order_status,\n",
    "        ord.order_purchase_timestamp,\n",
    "        ord.order_approved_at,\n",
    "        ord.order_delivered_carrier_date,\n",
    "        ord.order_delivered_customer_date,\n",
    "        ord.order_estimated_delivery_date,\n",
    "        o.price,\n",
    "        o.freight_value,\n",
    "        pay.payment_type,\n",
    "        pay.payment_value,\n",
    "        pay.payment_sequential,\n",
    "        r.review_score,\n",
    "        ROW_NUMBER() OVER (\n",
    "            PARTITION BY o.order_id, o.order_item_id\n",
    "            ORDER BY ord.order_purchase_timestamp DESC\n",
    "        ) AS row_num\n",
    "    FROM order_items o\n",
    "    JOIN orders         ord ON o.order_id = ord.order_id\n",
    "    JOIN products       p   ON o.product_id = p.product_id\n",
    "    JOIN sellers        s   ON o.seller_id = s.seller_id\n",
    "    LEFT JOIN payments  pay ON pay.order_id = o.order_id\n",
    "    LEFT JOIN reviews   r   ON r.order_id = o.order_id\n",
    ")\n",
    "\n",
    "SELECT *\n",
    "FROM joined_data\n",
    "WHERE row_num = 1"
   ]
  },
  {
   "cell_type": "markdown",
   "id": "441e81af",
   "metadata": {},
   "source": [
    "## dim_products\n",
    "\n",
    "Product details"
   ]
  },
  {
   "cell_type": "code",
   "execution_count": null,
   "id": "7502dcc4",
   "metadata": {
    "vscode": {
     "languageId": "sql"
    }
   },
   "outputs": [],
   "source": [
    "SELECT\n",
    "  product_id,\n",
    "  product_category_name,\n",
    "  product_name_length,\n",
    "  product_description_length,\n",
    "  product_photos_qty,\n",
    "  product_weight_g,\n",
    "  product_length_cm,\n",
    "  product_height_cm,\n",
    "  product_width_cm\n",
    "FROM {{ source('BET_Team3', 'products_corrected') }}"
   ]
  },
  {
   "cell_type": "markdown",
   "id": "06c45022",
   "metadata": {},
   "source": [
    "# dim_order_reviews\n",
    "\n",
    "Review scores and feedback data linked to orders"
   ]
  },
  {
   "cell_type": "code",
   "execution_count": null,
   "id": "aca9395f",
   "metadata": {
    "vscode": {
     "languageId": "sql"
    }
   },
   "outputs": [],
   "source": [
    "WITH base AS (\n",
    "    SELECT\n",
    "        review_id,\n",
    "        order_id,\n",
    "        CONCAT(order_id, '_', review_id) AS order_id_review_id,\n",
    "        review_score,\n",
    "        review_comment_title,\n",
    "        review_comment_message,\n",
    "        review_creation_date,\n",
    "        review_answer_timestamp\n",
    "    FROM {{ source('BET_Team3', 'order_reviews') }}\n",
    ")\n",
    "\n",
    "SELECT *\n",
    "FROM base\n"
   ]
  },
  {
   "cell_type": "markdown",
   "id": "8d4330d1",
   "metadata": {},
   "source": [
    "# dim_payments\n",
    "\n",
    "Payment method and transaction details"
   ]
  },
  {
   "cell_type": "code",
   "execution_count": null,
   "id": "1a367975",
   "metadata": {
    "vscode": {
     "languageId": "sql"
    }
   },
   "outputs": [],
   "source": [
    "SELECT\n",
    "  order_id,\n",
    "  payment_type,\n",
    "  payment_installments\n",
    "FROM {{ source('BET_Team3', 'order_payments') }}\n"
   ]
  },
  {
   "cell_type": "markdown",
   "id": "86a73e3e",
   "metadata": {},
   "source": [
    "# dim_customers\n",
    "\n",
    "Customer details and address information"
   ]
  },
  {
   "cell_type": "code",
   "execution_count": null,
   "id": "1c727278",
   "metadata": {
    "vscode": {
     "languageId": "sql"
    }
   },
   "outputs": [],
   "source": [
    "SELECT\n",
    "    customer_id,\n",
    "    customer_unique_id,\n",
    "    customer_zip_code_prefix, \n",
    "    customer_city,\n",
    "    customer_state\n",
    "FROM {{ source('BET_Team3', 'customers') }}\n"
   ]
  },
  {
   "cell_type": "markdown",
   "id": "70e8f6cd",
   "metadata": {},
   "source": [
    "# dim_sellers\n",
    "\n",
    "Seller details and address information"
   ]
  },
  {
   "cell_type": "code",
   "execution_count": null,
   "id": "d14d9edb",
   "metadata": {
    "vscode": {
     "languageId": "sql"
    }
   },
   "outputs": [],
   "source": [
    "SELECT\n",
    "  seller_id,\n",
    "  seller_zip_code_prefix,\n",
    "  seller_city,\n",
    "  seller_state\n",
    "FROM {{ source('BET_Team3', 'sellers') }}\n"
   ]
  },
  {
   "cell_type": "markdown",
   "id": "c702645a",
   "metadata": {},
   "source": [
    "# dim_geolocation\n",
    "\n",
    "Geolocation Data"
   ]
  },
  {
   "cell_type": "code",
   "execution_count": null,
   "id": "3787947e",
   "metadata": {
    "vscode": {
     "languageId": "sql"
    }
   },
   "outputs": [],
   "source": [
    "WITH raw_geo AS (\n",
    "    SELECT DISTINCT\n",
    "        LPAD(CAST(geolocation_zip_code_prefix AS STRING), 5, '0') AS geolocation_zip_code_prefix,\n",
    "        geolocation_lat,\n",
    "        geolocation_lng,\n",
    "        LOWER(TRIM(geolocation_city)) AS geolocation_city,\n",
    "        UPPER(TRIM(geolocation_state)) AS geolocation_state\n",
    "    FROM {{ source('BET_Team3', 'geolocation_version1') }}\n",
    "),\n",
    "\n",
    "with_surrogate AS (\n",
    "    SELECT\n",
    "        ROW_NUMBER() OVER () AS surrogate_key,\n",
    "        *\n",
    "    FROM raw_geo\n",
    ")\n",
    "\n",
    "SELECT * FROM with_surrogate"
   ]
  },
  {
   "cell_type": "markdown",
   "id": "f47713f0",
   "metadata": {},
   "source": [
    "# dim_date\n",
    "\n",
    "Date dimension for temporal analysis"
   ]
  },
  {
   "cell_type": "code",
   "execution_count": null,
   "id": "9e2607f0",
   "metadata": {
    "vscode": {
     "languageId": "sql"
    }
   },
   "outputs": [],
   "source": [
    "with raw_dates as (\n",
    "    select distinct\n",
    "        date(order_purchase_timestamp) as date_id\n",
    "    from {{ source('BET_Team3', 'orders_corrected') }}\n",
    "),\n",
    "\n",
    "final as (\n",
    "    select\n",
    "        date_id,\n",
    "        extract(year from date_id) as year,\n",
    "        extract(month from date_id) as month,\n",
    "        extract(day from date_id) as day,\n",
    "        format_date('%A', date_id) as day_name,\n",
    "        format_date('%B', date_id) as month_name\n",
    "    from raw_dates\n",
    ")\n",
    "\n",
    "select * from final"
   ]
  },
  {
   "cell_type": "markdown",
   "id": "70fd105d",
   "metadata": {},
   "source": [
    "# dim_time\n",
    "\n",
    "Time dimension for temporal analysis"
   ]
  },
  {
   "cell_type": "code",
   "execution_count": null,
   "id": "f4166161",
   "metadata": {
    "vscode": {
     "languageId": "sql"
    }
   },
   "outputs": [],
   "source": [
    "with times as (\n",
    "    select distinct cast(order_purchase_timestamp as timestamp) as time\n",
    "    from {{ source('BET_Team3', 'orders_corrected') }}\n",
    "    union distinct\n",
    "    select distinct cast(order_approved_at as timestamp) as time\n",
    "    from {{ source('BET_Team3', 'orders_corrected') }}\n",
    "    union distinct\n",
    "    select distinct cast(order_delivered_carrier_date as timestamp) as time\n",
    "    from {{ source('BET_Team3', 'orders_corrected') }}\n",
    "    union distinct\n",
    "    select distinct cast(order_delivered_customer_date as timestamp) as time\n",
    "    from {{ source('BET_Team3', 'orders_corrected') }}\n",
    "    union distinct\n",
    "    select distinct cast(order_estimated_delivery_date as timestamp) as time\n",
    "    from {{ source('BET_Team3', 'orders_corrected') }}\n",
    "),\n",
    "final as (\n",
    "    select\n",
    "        time as time_id,\n",
    "        extract(hour from time) as hour,\n",
    "        extract(minute from time) as minute,\n",
    "        format_time('%H:%M', cast(time as TIME)) as time_hhmm\n",
    "    from times\n",
    "    where time is not null\n",
    ")\n",
    "select * from final\n",
    "\n",
    "\n"
   ]
  }
 ],
 "metadata": {
  "language_info": {
   "name": "python"
  }
 },
 "nbformat": 4,
 "nbformat_minor": 5
}
