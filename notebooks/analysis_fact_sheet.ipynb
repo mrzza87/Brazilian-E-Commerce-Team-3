{
 "cells": [
  {
   "cell_type": "markdown",
   "id": "086ad11c",
   "metadata": {},
   "source": [
    "# 📄 Analysis Fact Sheet\n",
    "\n",
    "---\n",
    "\n",
    "## 1️⃣ Problem Statement\n",
    "\n",
    "The Brazilian E-Commerce platform faces multiple operational and commercial challenges across both seller performance and logistics:\n",
    "\n",
    "- Poor product and seller quality leading to customer dissatisfaction and negative reviews.\n",
    "- Delivery inefficiencies increasing delays, driving negative reviews and churn.\n",
    "- Financial losses stemming from lost revenue, operational inefficiencies, and lifetime churn risks.\n",
    "\n",
    "The business needs data-driven insights to optimize seller quality, product category management, and logistics operations to protect revenue and grow customer lifetime value.\n",
    "\n",
    "---\n",
    "\n",
    "## 2️⃣ Hypotheses\n",
    "\n",
    "| **Code** | **Hypothesis** |\n",
    "|----------|----------------|\n",
    "| **H1 (Product Category Hypothesis)** | Certain product categories systematically receive more negative reviews due to product quality issues. |\n",
    "| **H2 (Seller Performance Hypothesis)** | Certain sellers consistently generate higher dissatisfaction and more low review scores. |\n",
    "| **H3 (Delivery & Logistics Hypothesis)** | Delivery delays, long delivery distances, and SLA violations contribute to lower review scores and customer dissatisfaction. |\n",
    "| **H4 (Revenue & Churn Financial Hypothesis)** | Customer dissatisfaction directly translates into lost revenue, higher churn rates, lower lifetime value, and long-term business losses. |\n",
    "\n",
    "---\n",
    "\n",
    "## 3️⃣ Glossary of Business Terms\n",
    "\n",
    "| **Term** | **Definition** |\n",
    "|----------|----------------|\n",
    "| **Churn** | The rate at which customers stop purchasing from the business over time. High churn indicates customers are not retained. |\n",
    "| **LTV (Lifetime Value)** | The total revenue a business expects to earn from a customer throughout their relationship with the business. |\n",
    "| **CLV (Customer Lifetime Value)** | A more detailed version of LTV that accounts for revenue, cost to serve, retention rate, and profit margin over time. CLV = (Average Revenue per Customer × Gross Margin × Customer Lifespan). |\n",
    "| **Operational Delay** | The difference between the estimated and actual delivery date. High operational delay can drive customer dissatisfaction. |\n",
    "| **Delivery Distance** | The physical distance between seller and customer locations; longer distances often correlate with longer delivery times. |\n",
    "| **SLA (Service Level Agreement)** | The target delivery time committed to customers. Violations of SLA lead to delivery delays and potential dissatisfaction. |\n",
    "| **Revenue at Risk** | The potential revenue loss if negative customer experiences continue without intervention. |\n",
    "| **Financial Impact Modeling** | Estimating financial losses or gains based on business scenarios such as churn reduction, delivery optimization, and seller quality improvements. |\n",
    "| **Operational Cost Savings** | Reduction in company expenses through improved processes, faster deliveries, or better resource utilization. |\n",
    "| **Seller Quality Assurance** | Programs to monitor and ensure sellers meet product quality and service expectations to reduce customer complaints. |\n",
    "\n",
    "---\n",
    "\n",
    "\n",
    "\n"
   ]
  },
  {
   "cell_type": "markdown",
   "id": "cfaef11a",
   "metadata": {},
   "source": []
  }
 ],
 "metadata": {
  "language_info": {
   "name": "python"
  }
 },
 "nbformat": 4,
 "nbformat_minor": 5
}
